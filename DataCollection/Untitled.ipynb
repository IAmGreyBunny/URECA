{
 "cells": [
  {
   "cell_type": "markdown",
   "id": "490474ab-98ee-47c2-846a-b6eb39659680",
   "metadata": {},
   "source": [
    "# Data Collection"
   ]
  },
  {
   "cell_type": "markdown",
   "id": "21d18b18-da62-4da0-9c61-1095f016f2c4",
   "metadata": {},
   "source": [
    "## Data Sources:\n",
    "Open Textbook Library: https://open.umn.edu/opentextbooks/subjects"
   ]
  },
  {
   "cell_type": "code",
   "execution_count": null,
   "id": "7fad6fbf-4d18-4a0d-aeda-0409f0ecddea",
   "metadata": {},
   "outputs": [],
   "source": []
  }
 ],
 "metadata": {
  "kernelspec": {
   "display_name": "Python 3 (ipykernel)",
   "language": "python",
   "name": "python3"
  },
  "language_info": {
   "codemirror_mode": {
    "name": "ipython",
    "version": 3
   },
   "file_extension": ".py",
   "mimetype": "text/x-python",
   "name": "python",
   "nbconvert_exporter": "python",
   "pygments_lexer": "ipython3",
   "version": "3.13.5"
  }
 },
 "nbformat": 4,
 "nbformat_minor": 5
}
